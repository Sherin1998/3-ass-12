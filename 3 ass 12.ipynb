{
 "cells": [
  {
   "cell_type": "code",
   "execution_count": 5,
   "metadata": {},
   "outputs": [
    {
     "name": "stdout",
     "output_type": "stream",
     "text": [
      "{201, 43, 45, 23, 'Krish'}\n"
     ]
    }
   ],
   "source": [
    "#1\n",
    "\n",
    "d={'Sherin':23,'Monika':43,'Ineuron':201,'Febin':23,'polish':45,'Crime':43,'Europe':201,(1,2,3):'Krish'}\n",
    "a=[]\n",
    "for i in d.items():\n",
    "    a.append(i[1])\n",
    "print(set(a))\n",
    "    "
   ]
  },
  {
   "cell_type": "code",
   "execution_count": 6,
   "metadata": {},
   "outputs": [
    {
     "name": "stdout",
     "output_type": "stream",
     "text": [
      "1163\n"
     ]
    }
   ],
   "source": [
    "#2\n",
    "itm={'Orange':200,'Apple':198,'Raddish':153,'Grapes':212,'Cherry':400}\n",
    "sum=0\n",
    "for i in itm.items():\n",
    "    sum+=i[1]\n",
    "print(sum)\n",
    "    "
   ]
  },
  {
   "cell_type": "code",
   "execution_count": 9,
   "metadata": {},
   "outputs": [
    {
     "name": "stdout",
     "output_type": "stream",
     "text": [
      "None\n",
      "{'Orange': 200, 'Apple': 198, 'Raddish': 153, 'Grapes': 212, 'Cherry': 400, 'Carrot': 120, 'Onion': 187, 'Shallot': 90, 'Ginger': 32, 'Chilli': 67, 'Bean': 98, 'Capsicum': 54}\n"
     ]
    }
   ],
   "source": [
    "#3\n",
    "itm={'Orange':200,'Apple':198,'Raddish':153,'Grapes':212,'Cherry':400}\n",
    "vegs={'Carrot':120,'Onion':187,'Shallot':90,'Ginger':32,'Chilli':67,'Bean':98,'Capsicum':54}\n",
    "itm.update(vegs)\n",
    "print(itm)\n"
   ]
  },
  {
   "cell_type": "code",
   "execution_count": 93,
   "metadata": {},
   "outputs": [
    {
     "name": "stdout",
     "output_type": "stream",
     "text": [
      "{'Alpha': 300, 'Gamma': 1987, 'Mon': 2, 'Rain': 56, 'Tue': 11, 'Wed': 3, 'Zebra': 986}\n"
     ]
    }
   ],
   "source": [
    "#4\n",
    "\n",
    "listA = [{'Mon':2}, {'Tue':11}, {'Wed':3},{'Rain':56},{'Zebra':986},{'Alpha':300},{'Gamma':1987}]\n",
    "d={}\n",
    "for i in listA:\n",
    "    for j in i:\n",
    "        d[j]=i[j]\n",
    "print(dict(sorted(d.items(),key=lambda x:x[0])))\n",
    "    "
   ]
  },
  {
   "cell_type": "code",
   "execution_count": 60,
   "metadata": {},
   "outputs": [
    {
     "name": "stdout",
     "output_type": "stream",
     "text": [
      "{'a': 1, 'b': 2, 'c': 3, 'd': 4, 'e': 5, 'f': 6, 'g': 7, 'h': 8, 'i': 9, 'k': 11, 'l': 12, 'm': 13, 'n': 14}\n"
     ]
    }
   ],
   "source": [
    "#5\n",
    "x1={'m':13,'i':9,'n':15,'g':7,'n':10,'k':11,'l':12,'f':6,'n':14,'h':8}\n",
    "x2={'a':1,'b':2,'c':3,'d':4,'e':5}\n",
    "x2.update(sorted(x1.items()))\n",
    "print(x2)"
   ]
  },
  {
   "cell_type": "code",
   "execution_count": 117,
   "metadata": {},
   "outputs": [
    {
     "data": {
      "text/plain": [
       "'false'"
      ]
     },
     "execution_count": 117,
     "metadata": {},
     "output_type": "execute_result"
    }
   ],
   "source": [
    "#6\n",
    "from collections import OrderedDict\n",
    "def Orderedd1(x,y):\n",
    "    dict = OrderedDict.fromkeys(input)\n",
    "    len1 = 0\n",
    "    for key,value in dict.items():\n",
    "        if(key==y[len1]):\n",
    "            len1+=1\n",
    "        if(len1==len(y)):\n",
    "            return 'true'\n",
    "    return 'false'\n",
    "        \n",
    "x='The institute is Ineuron'\n",
    "y='Th'\n",
    "Orderedd1(x,y)\n"
   ]
  },
  {
   "cell_type": "code",
   "execution_count": 57,
   "metadata": {},
   "outputs": [
    {
     "name": "stdout",
     "output_type": "stream",
     "text": [
      "{('Bean', 98): 98, ('Capsicum', 54): 54, ('Carrot', 120): 120, ('Chilli', 67): 67, ('Ginger', 32): 32, ('Onion', 187): 187, ('Shallot', 90): 90}\n",
      "{'Ginger': 32, 'Capsicum': 54, 'Chilli': 67, 'Shallot': 90, 'Bean': 98, 'Carrot': 120, 'Onion': 187}\n"
     ]
    }
   ],
   "source": [
    "#7\n",
    "vegs={'Carrot':120,'Onion':187,'Shallot':90,'Ginger':32,'Chilli':67,'Bean':98,'Capsicum':54}\n",
    "s={}\n",
    "for i in sorted(vegs.items()):                                #sort by key\n",
    "    s[i]=i[1]\n",
    "print(s)\n",
    "x=sorted(vegs.items(),key=lambda x:x[1])                      #by value\n",
    "print(dict(x))\n"
   ]
  },
  {
   "cell_type": "code",
   "execution_count": null,
   "metadata": {},
   "outputs": [],
   "source": []
  }
 ],
 "metadata": {
  "kernelspec": {
   "display_name": "Python 3",
   "language": "python",
   "name": "python3"
  },
  "language_info": {
   "codemirror_mode": {
    "name": "ipython",
    "version": 3
   },
   "file_extension": ".py",
   "mimetype": "text/x-python",
   "name": "python",
   "nbconvert_exporter": "python",
   "pygments_lexer": "ipython3",
   "version": "3.8.3"
  }
 },
 "nbformat": 4,
 "nbformat_minor": 4
}
